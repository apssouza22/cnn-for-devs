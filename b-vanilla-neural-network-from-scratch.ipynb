{
 "cells": [
  {
   "cell_type": "markdown",
   "metadata": {
    "id": "0CggyzPOvQ8d"
   },
   "source": [
    "<a href=\"https://colab.research.google.com/github/apssouza22/cnn-for-devs/blob/master/b-vanilla-neural-network-from-scratch.ipynb\" target=\"_parent\"><img src=\"https://colab.research.google.com/assets/colab-badge.svg\" alt=\"Open In Colab\"/></a>\n"
   ]
  },
  {
   "cell_type": "markdown",
   "metadata": {
    "id": "2JTfVbH7FHUx"
   },
   "source": [
    "# Implementing a vanilla Backpropagation algorithm"
   ]
  },
  {
   "cell_type": "markdown",
   "metadata": {
    "id": "wCsjDO-bvIqp"
   },
   "source": [
    "\n",
    "\n",
    "In this section, we will learn how to implement the backpropagation algorithm from scratch using Python. \n",
    "\n",
    "**What is Backpropagation?**\n",
    "Back-propagation is the essence of neural net training. It is the method of fine-tuning the weights of a neural net based on the error rate obtained in the previous epoch (i.e., iteration). Proper tuning of the weights allows you to reduce error rates and to make the model reliable by increasing its generalization.\n",
    "\n",
    "Backpropagation is a short form for \"backward propagation of errors.\" It is a standard method of training artificial neural networks. This method helps to calculate the gradient of a loss function with respects to all the weights in the network.\n",
    "\n",
    "The backpropagation algorithm consists of two phases:\n",
    "- 1. The forward pass where we pass our inputs through the network to obtain our output classifications.\n",
    "\n",
    "-  2. The backward pass (i.e., weight update phase) where we compute the gradient of the loss function and use this information to iteratively apply the chain rule to update the weights in our network.\n",
    "\n",
    "<img src=\"https://www.guru99.com/images/1/030819_0937_BackPropaga1.png\">\n",
    "\n"
   ]
  },
  {
   "cell_type": "code",
   "execution_count": 2,
   "metadata": {
    "id": "2DrYmkG701Je"
   },
   "outputs": [],
   "source": [
    "\n",
    "from __future__ import print_function\n",
    "import numpy as np \n",
    "np.random.seed(42)"
   ]
  },
  {
   "cell_type": "markdown",
   "metadata": {},
   "source": [
    "# Concepts"
   ]
  },
  {
   "cell_type": "markdown",
   "metadata": {},
   "source": [
    "Before we dive into our neural network implementation, lets look at some important concepts."
   ]
  },
  {
   "cell_type": "markdown",
   "metadata": {},
   "source": [
    "## The dot product\n",
    "\n",
    "The dot product of two vectors tells you how similar they are in terms of direction and is scaled by the magnitude of the two vectors.\n",
    "\n"
   ]
  },
  {
   "cell_type": "code",
   "execution_count": null,
   "metadata": {
    "pycharm": {
     "name": "#%%\n"
    }
   },
   "outputs": [],
   "source": [
    "input_vector = [1.72, 1.23]\n",
    "weights_1 = [1.26, 0]\n",
    "weights_2 = [2.17, 0.32]\n",
    "\n",
    "# Computing the dot product of input_vector and weights_1\n",
    "first_indexes_mult = input_vector[0] * weights_1[0]\n",
    "second_indexes_mult = input_vector[1] * weights_1[1]\n",
    "dot_product_1 = first_indexes_mult + second_indexes_mult\n",
    "\n",
    "print(f\"The dot product 1 is: {dot_product_1}\")\n",
    "\n",
    "#use np instead\n",
    "dot_product_2 = np.dot(input_vector, weights_2)\n",
    "print(f\"The dot product 2 is: {dot_product_2}\")\n",
    "print(f\"The dot product 2 is closer: {dot_product_2} > {dot_product_1}\")"
   ]
  },
  {
   "cell_type": "markdown",
   "metadata": {},
   "source": [
    "## Matrix multiplication\n",
    "\n",
    "The fundamental operations of any typical neural network can be reduced to a bunch of addition and multiplication operations. Neural networks can be expressed in terms of matrices. Matrix multiplication is one of the most important mathematical operations when it comes to deep neural networks.\n",
    "\n",
    "Below a very simple \"neural net\" for helping to understand matrix multiplication"
   ]
  },
  {
   "cell_type": "code",
   "execution_count": null,
   "metadata": {
    "pycharm": {
     "name": "#%%\n"
    }
   },
   "outputs": [],
   "source": [
    "\n",
    "#weights for 2 neurons\n",
    "weights_for_layer1 = np.array([\n",
    "\t[1.5, \t-0.5],\n",
    "\t[-1, \t   1],\n",
    "\t[-1, \t   1]\n",
    "])\n",
    "\n",
    "#weights for 1 neurons\n",
    "weights_for_layer2 = np.array([\n",
    "\t[-1],\n",
    "\t[1],\n",
    "\t[1]\n",
    "])\n",
    "\n",
    "def activation_function(x):\n",
    "\treturn np.where(x>0, 1, 0)\n",
    "\n",
    "def neural_net(inputs, layer_weights, activation_function):\n",
    "\toutputs = inputs\n",
    "\t#The output of a layer become the input for the subsequent layer\n",
    "\tfor weight in layer_weights:\n",
    "\t\tbias = np.ones(shape=(outputs.shape[0], 1)) #adding 1 as a bias as an extra column\n",
    "\t\tinputs = np.hstack([bias, outputs])\n",
    "\t\tmatrixMultiplied= np.matmul(inputs, weight)\n",
    "\t\toutputs = activation_function(matrixMultiplied)\n",
    "\treturn outputs\n",
    "\n",
    "inputs = [\n",
    "\t[0, 0],\n",
    "\t[1, 0],\n",
    "\t[0, 1],\n",
    "\t[1, 1]\n",
    "]\n",
    "\n",
    "for i in inputs:\n",
    "\tprint(\n",
    "\t\ti,\n",
    "\t\t\" -> \",\n",
    "\t\tneural_net(\n",
    "\t\t\tinputs=np.array([i]),\n",
    "\t\t\tlayer_weights=[weights_for_layer1, weights_for_layer2],\n",
    "\t\t\tactivation_function=activation_function\n",
    "\t\t)\n",
    "\t)"
   ]
  },
  {
   "cell_type": "markdown",
   "metadata": {},
   "source": [
    "# Implementing a Backpropagation algorithm"
   ]
  },
  {
   "cell_type": "markdown",
   "metadata": {
    "id": "fQgU_Z8q1JeB"
   },
   "source": [
    "A neural network is compound by multiple layers.\n",
    "\n",
    "Every layer will have a forward pass and backpass implementation. Let's create a main class layer which can do a forward pass .forward() and Backward pass .backward().\n"
   ]
  },
  {
   "cell_type": "code",
   "execution_count": 3,
   "metadata": {
    "id": "lD0VYK4I1nTN"
   },
   "outputs": [],
   "source": [
    "class Layer:\n",
    "    \"\"\"\n",
    "    A building block. Each layer is capable of performing two things:\n",
    "\n",
    "    - Process input to get output:           output = layer.forward(input)\n",
    "    \n",
    "    - Propagate gradients through itself:    grad_input = layer.backward(input, grad_output)\n",
    "    \n",
    "    Some layers also have learnable parameters which they update during layer.backward.\n",
    "    \"\"\"\n",
    "    def __init__(self):\n",
    "        \"\"\"Here we can initialize layer parameters (if any) and auxiliary stuff.\"\"\"\n",
    "        # A dummy layer does nothing\n",
    "        pass\n",
    "    \n",
    "    def forward(self, input):\n",
    "        \"\"\"\n",
    "        Takes input data of shape [batch, input_units], returns output data [batch, output_units]\n",
    "        \"\"\"\n",
    "        # A dummy layer just returns whatever it gets as input.\n",
    "        return input\n",
    "\n",
    "    def backward(self, input, grad_output):\n",
    "        \"\"\"\n",
    "        Performs a backpropagation step through the layer, with respect to the given input.\n",
    "        \n",
    "        To compute loss gradients w.r.t input, we need to apply chain rule (backprop):\n",
    "        \n",
    "        d loss / d x  = (d loss / d layer) * (d layer / d x)\n",
    "        \n",
    "        Luckily, we already receive d loss / d layer as input, so you only need to multiply it by d layer / d x.\n",
    "        \n",
    "        If our layer has parameters (e.g. linear layer), we also need to update them here using d loss / d layer\n",
    "        \"\"\"\n",
    "        # The gradient of a dummy layer is precisely grad_output, but we'll write it more explicitly\n",
    "        num_units = input.shape[1]\n",
    "        \n",
    "        d_layer_d_input = np.eye(num_units)\n",
    "        \n",
    "        return np.dot(grad_output, d_layer_d_input) # chain rule"
   ]
  },
  {
   "cell_type": "markdown",
   "metadata": {
    "id": "r3Xsi8DyvIB3"
   },
   "source": [
    "## Activation function (Relu)\n",
    "In a neural network, the purpose of an activation function is to add non-linearity to the neural network.\n",
    "\n",
    "They allow backpropagation because now the derivative function would be related to the input, and it’s possible to go back and understand which weights in the input neurons can provide a better prediction.\n",
    "\n",
    "They allow the stacking of multiple layers of neurons as the output would now be a non-linear combination of input passed through multiple layers. Any output can be represented as a functional computation in a neural network.\n",
    "\n",
    "The rectified linear activation function is a simple calculation that returns the value provided as input directly, or the value 0.0 if the input is 0.0 or less.\n",
    "\n",
    "```\n",
    "if input > 0:\n",
    "\treturn input\n",
    "else:\n",
    "\treturn 0\n",
    "```\n",
    "\n",
    "<img src=\"https://machinelearningmastery.com/wp-content/uploads/2018/10/Line-Plot-of-Rectified-Linear-Activation-for-Negative-and-Positive-Inputs.png\" width=\"50%\">\n",
    "\n"
   ]
  },
  {
   "cell_type": "code",
   "execution_count": 4,
   "metadata": {
    "id": "VKn2K0Ud0Qca"
   },
   "outputs": [],
   "source": [
    "class ReLU(Layer):\n",
    "    def __init__(self):\n",
    "        \"\"\"ReLU layer simply applies elementwise rectified linear unit to all inputs\"\"\"\n",
    "        pass\n",
    "    \n",
    "    def forward(self, input):\n",
    "        \"\"\"Apply elementwise ReLU to [batch, input_units] matrix\"\"\"\n",
    "        relu_forward = np.maximum(0,input)\n",
    "        return relu_forward\n",
    "    \n",
    "    def backward(self, input, grad_output):\n",
    "        \"\"\"Compute gradient of loss with respect to ReLU input\"\"\"\n",
    "        relu_grad = input > 0\n",
    "        return grad_output * relu_grad "
   ]
  },
  {
   "cell_type": "markdown",
   "metadata": {
    "id": "d7_1NJKN748m"
   },
   "source": [
    "### Linear layer\n",
    "\n",
    "Now let's build something more complicated. Unlike nonlinearity, a linear layer actually has something to learn.\n",
    "\n",
    "A linear layer applies affine transformation. In a vectorized form, it can be described as:\n",
    "$$f(X)= W \\cdot X + \\vec b $$\n",
    "\n",
    "Both W and b are initialized during layer creation and updated each time backward is called. Note that we are using **Xavier initialization** which is a trick to train our model to converge faster [read more](http://andyljones.tumblr.com/post/110998971763/an-explanation-of-xavier-initialization). Instead of initializing our weights with small numbers which are distributed randomly we initialize our weights with mean zero and variance of 2/(number of inputs + number of outputs)"
   ]
  },
  {
   "cell_type": "code",
   "execution_count": 5,
   "metadata": {
    "ExecuteTime": {
     "end_time": "2018-06-03T19:04:12.511355-05:00",
     "start_time": "2018-06-03T19:04:12.492305Z"
    },
    "id": "ksQ6fD_Z748m"
   },
   "outputs": [],
   "source": [
    "class Linear(Layer):\n",
    "    def __init__(self, input_units, output_units, learning_rate=0.1):\n",
    "        \"\"\"\n",
    "        A linear layer is a layer which performs a learned affine transformation:\n",
    "        f(x) = <W*x> + b\n",
    "        \"\"\"\n",
    "        self.learning_rate = learning_rate\n",
    "        self.weights = np.random.normal(loc=0.0, \n",
    "                                        scale = np.sqrt(2/(input_units+output_units)), \n",
    "                                        size = (input_units,output_units))\n",
    "        self.biases = np.zeros(output_units)\n",
    "        \n",
    "    def forward(self, input):\n",
    "        \"\"\"\n",
    "        Perform forward activation: f(x) = <W*x> + b\n",
    "        \n",
    "        input shape: [batch, input_units]\n",
    "        output shape: [batch, output units]\n",
    "        \"\"\"\n",
    "        return np.dot(input, self.weights) + self.biases\n",
    "    \n",
    "    def backward(self, input, grad_output):\n",
    "        grad_input = np.dot(grad_output, self.weights.T)\n",
    "        \n",
    "        # compute gradient with respect to weights and biases\n",
    "        grad_weights = np.dot(input.T, grad_output)\n",
    "        grad_biases = grad_output.mean(axis=0)*input.shape[0]\n",
    "        \n",
    "        assert grad_weights.shape == self.weights.shape and grad_biases.shape == self.biases.shape\n",
    "        \n",
    "        # Here we perform a stochastic gradient descent step. Updating weights and biases to all layers in the network\n",
    "        self.weights = self.weights - self.learning_rate * grad_weights\n",
    "        self.biases = self.biases - self.learning_rate * grad_biases\n",
    "        \n",
    "        return grad_input"
   ]
  },
  {
   "cell_type": "markdown",
   "metadata": {
    "id": "6k4MyzE9748n"
   },
   "source": [
    "### The loss function\n",
    "\n",
    "Cross-entropy loss, or log loss, measures the performance of a classification model whose output is a probability value between 0 and 1\n"
   ]
  },
  {
   "cell_type": "code",
   "execution_count": 6,
   "metadata": {
    "ExecuteTime": {
     "end_time": "2018-06-03T19:04:47.947883-05:00",
     "start_time": "2018-06-03T19:04:47.939333Z"
    },
    "id": "5su5_htL748n"
   },
   "outputs": [],
   "source": [
    "def crossentropy_loss(predictions, labels):\n",
    "\t\"\"\"Calculate the softmax cross entropy loss for the predictions\"\"\"\n",
    "\tpredictions_for_answers = predictions[np.arange(len(predictions)), labels]\n",
    "\txentropy = - predictions_for_answers + np.log(np.sum(np.exp(predictions), axis=-1))\n",
    "\treturn xentropy\n"
   ]
  },
  {
   "cell_type": "markdown",
   "metadata": {
    "id": "GOqtHXxmIf98"
   },
   "source": [
    "## Why derivative/gradient is used ?\n",
    "\n",
    "When updating the curve, to know in which direction and how much to change or update the curve depending upon the slope.\n",
    "\n",
    "The error is given by the y-axis. If you’re in point A and want to reduce the error toward 0, then you need to bring the x value down. On the other hand, if you’re in point B and want to reduce the error, then you need to bring the x value up. To know which direction you should go to reduce the error, you’ll use the derivative. \n",
    "\n",
    "<img src=\"https://files.realpython.com/media/quatratic_function.002729dea332.png\" width=\"500px\">\n",
    "\n",
    "The gradient is a vector; it points in the direction and derivative is a rate of change of , which can be thought of the slope of the function at a point .\n"
   ]
  },
  {
   "cell_type": "code",
   "execution_count": 7,
   "metadata": {
    "id": "eD8__mJnIiUC"
   },
   "outputs": [],
   "source": [
    "def crossentropy_loss_grad_derivative(predictions, labels):\n",
    "\t\"\"\"Calculate the direction rate of the slope\"\"\"\n",
    "\tones_for_answers = np.zeros_like(predictions)\n",
    "\tones_for_answers[np.arange(len(predictions)), labels] = 1\n",
    "\n",
    "\tsoftmax = np.exp(predictions) / np.exp(predictions).sum(axis=-1, keepdims=True)\n",
    "\n",
    "\treturn (- ones_for_answers + softmax) / predictions.shape[0]"
   ]
  },
  {
   "cell_type": "markdown",
   "metadata": {
    "id": "shEEaQxS3tO8"
   },
   "source": [
    "## Learning rate\n",
    "\n",
    "Is the step size at each iteration while moving toward a minimum of a loss function. Learning rate can not be too small or too big. \n",
    "\n",
    "\n",
    "<img src=\"https://srdas.github.io/DLBook/DL_images/TNN2.png\">\n"
   ]
  },
  {
   "cell_type": "markdown",
   "metadata": {
    "id": "Y9hJvYimE6K_"
   },
   "source": [
    "# Train neural network"
   ]
  },
  {
   "cell_type": "markdown",
   "metadata": {
    "id": "EyOk3mmp748n"
   },
   "source": [
    "## Loading the dataset\n",
    "Now let's combine what we've just built into a working neural network. As I have told earlier, we are going to use MNIST data of handwritten digit for our example.\n",
    "\n",
    "\n",
    "This subset of the MNIST dataset is built-into the scikit-learn library and includes 1,797 example digits, each of which are 8 × 8 grayscale images (the original images are 28 × 28. When flattened, these images are represented by an 8 × 8 = 64-dim vector.\n",
    "\n",
    "<img src=\"https://nvsyashwanth.github.io/machinelearningmaster/assets/images/digitsMNIST/samples.png\"/>"
   ]
  },
  {
   "cell_type": "code",
   "execution_count": 12,
   "metadata": {
    "colab": {
     "base_uri": "https://localhost:8080/"
    },
    "id": "gpl9LZQ7Ej87",
    "outputId": "0d2ebb51-5c15-4a86-e905-8b430cf835cb"
   },
   "outputs": [
    {
     "name": "stdout",
     "output_type": "stream",
     "text": [
      "[INFO] loading MNIST (sample) dataset...\n",
      "[INFO] samples: 1797, dim: 64\n"
     ]
    }
   ],
   "source": [
    "from sklearn.preprocessing import LabelBinarizer\n",
    "from sklearn.model_selection import train_test_split\n",
    "from sklearn.metrics import classification_report\n",
    "from sklearn import datasets\n",
    "import matplotlib.pyplot as plt\n",
    "%matplotlib inline\n",
    "\n",
    "def load_dataset(flatten=False):\n",
    "    # load the MNIST dataset and apply min/max scaling to scale the\n",
    "    # pixel intensity values to the range [0, 1] (each image is\n",
    "    # represented by an 8 x 8 = 64-dim feature vector)\n",
    "    print(\"[INFO] loading MNIST (sample) dataset...\")\n",
    "    digits = datasets.load_digits()\n",
    "    data = digits.data.astype(\"float\")\n",
    "    data = (data - data.min()) / (data.max() - data.min()) # normalization\n",
    "    print(\"[INFO] samples: {}, dim: {}\".format(data.shape[0],data.shape[1]))\n",
    "    #X = data, Y = label\n",
    "    X_train, X_test, y_train, y_test = train_test_split(data, digits.target, test_size=0.25)\n",
    "\n",
    "    # we reserve the last 300 training examples for validation\n",
    "    X_train, X_val = X_train[:-300], X_train[-300:]\n",
    "    y_train, y_val = y_train[:-300], y_train[-300:]\n",
    "\n",
    "    if flatten:\n",
    "        X_train = X_train.reshape([X_train.shape[0], -1])\n",
    "        X_val = X_val.reshape([X_val.shape[0], -1])\n",
    "        X_test = X_test.reshape([X_test.shape[0], -1])\n",
    "\n",
    "    return X_train, y_train, X_val, y_val, X_test, y_test\n",
    "\n",
    "X_train, y_train, X_val, y_val, X_test, y_test = load_dataset(flatten=True)"
   ]
  },
  {
   "cell_type": "markdown",
   "metadata": {
    "id": "StJoYIg7748o"
   },
   "source": [
    "We'll define network as a list of layers, each applied on top of previous one. In this setting, computing predictions and training becomes trivial."
   ]
  },
  {
   "cell_type": "code",
   "execution_count": 13,
   "metadata": {
    "ExecuteTime": {
     "end_time": "2018-06-03T18:44:01.727147-05:00",
     "start_time": "2018-06-03T18:44:01.719126Z"
    },
    "id": "-chb7zrr748p"
   },
   "outputs": [],
   "source": [
    "network = []\n",
    "network.append(Linear(X_train.shape[1], 100))\n",
    "network.append(ReLU())\n",
    "network.append(Linear(100, 200))\n",
    "network.append(ReLU())\n",
    "network.append(Linear(200, 10))"
   ]
  },
  {
   "cell_type": "code",
   "execution_count": 17,
   "metadata": {
    "ExecuteTime": {
     "end_time": "2018-06-03T18:46:26.631468-05:00",
     "start_time": "2018-06-03T18:46:26.608900Z"
    },
    "id": "ugUb0hGc748p"
   },
   "outputs": [],
   "source": [
    "def forward(network, X):\n",
    "\t\"\"\"\n",
    "\tCompute activations of all network layers by applying them sequentially.\n",
    "\tReturn a list of activations for each layer. \n",
    "\t\"\"\"\n",
    "\tpredictions = []\n",
    "\tinput = X\n",
    "\n",
    "\t# Looping through each layer\n",
    "\tfor l in network:\n",
    "\t\tpredictions.append(l.forward(input))\n",
    "\t\t# Updating input to last layer output\n",
    "\t\tinput = predictions[-1]\n",
    "\n",
    "\tassert len(predictions) == len(network)\n",
    "\treturn predictions\n",
    "\n",
    "\n",
    "def predict(network, X):\n",
    "\t\"\"\"\n",
    "\tCompute network predictions. Returning indices of largest Logit probability\n",
    "\t\"\"\"\n",
    "\tprediction = forward(network, X)[-1]\n",
    "\treturn prediction.argmax(axis=-1)\n",
    "\n",
    "\n",
    "def train(network, X, y):\n",
    "\t\"\"\"\n",
    "\tTrain our network on a given batch of X and y.\n",
    "\tWe first need to run forward to get all layer activations.\n",
    "\tThen we can run layer.backward going from last to first layer.\n",
    "\tAfter we have called backward for all layers, all Linear layers have already made one gradient step.\n",
    "\t\"\"\"\n",
    "\n",
    "\t# Get the layer activations\n",
    "\tlayer_predictions = forward(network, X)\n",
    "\tlayer_inputs = [X] + layer_predictions  # layer_input[i] is an input for network[i]\n",
    "\tlast_prediction = layer_predictions[-1]\n",
    "\n",
    "\t# Compute the loss and the initial gradient\n",
    "\tloss = crossentropy_loss(last_prediction, y)\n",
    "\tloss_grad = crossentropy_loss_grad_derivative(last_prediction, y)\n",
    "\n",
    "\tbackward(layer_inputs, loss_grad, network)\n",
    "\n",
    "\treturn np.mean(loss)\n",
    "\n",
    "\n",
    "def backward(layer_inputs, loss_grad, network):\n",
    "\t# Propagate gradients through the network\n",
    "\t# Reverse loop as this is backprop\n",
    "\tfor layer_index in range(len(network))[::-1]:\n",
    "\t\tlayer = network[layer_index]\n",
    "\t\tlayer_input = layer_inputs[layer_index]\n",
    "\t\tloss_grad = layer.backward(layer_input, loss_grad)  # grad w.r.t. input, also weight updates\n"
   ]
  },
  {
   "cell_type": "markdown",
   "metadata": {
    "id": "yG9TeYqs748p"
   },
   "source": [
    "# Training loop\n",
    "\n",
    "We split data into minibatches, feed each such minibatch into the network and update weights. This training method is called a mini-batch stochastic gradient descent."
   ]
  },
  {
   "cell_type": "code",
   "execution_count": 14,
   "metadata": {
    "ExecuteTime": {
     "end_time": "2018-06-03T18:47:45.846651-05:00",
     "start_time": "2018-06-03T18:47:45.316719Z"
    },
    "id": "-eRAndXE748p"
   },
   "outputs": [],
   "source": [
    "from tqdm import trange\n",
    "\n",
    "def iterate_minibatches(inputs, targets, batchsize, shuffle=False):\n",
    "    assert len(inputs) == len(targets)\n",
    "    if shuffle:\n",
    "        indices = np.random.permutation(len(inputs))\n",
    "        \n",
    "    for start_idx in trange(0, len(inputs) - batchsize + 1, batchsize):\n",
    "        if shuffle:\n",
    "            excerpt = indices[start_idx:start_idx + batchsize]\n",
    "        else:\n",
    "            excerpt = slice(start_idx, start_idx + batchsize)\n",
    "        yield inputs[excerpt], targets[excerpt]"
   ]
  },
  {
   "cell_type": "code",
   "execution_count": 15,
   "metadata": {
    "ExecuteTime": {
     "end_time": "2018-06-03T18:47:51.387863-05:00",
     "start_time": "2018-06-03T18:47:51.384341Z"
    },
    "id": "L_zo8T4V748p"
   },
   "outputs": [],
   "source": [
    "from IPython.display import clear_output\n",
    "train_log = []\n",
    "val_log = []"
   ]
  },
  {
   "cell_type": "code",
   "execution_count": 18,
   "metadata": {
    "ExecuteTime": {
     "end_time": "2018-06-03T18:49:20.383230-05:00",
     "start_time": "2018-06-03T18:47:53.604185Z"
    },
    "colab": {
     "base_uri": "https://localhost:8080/",
     "height": 317
    },
    "id": "0zhhjgoR748q",
    "outputId": "963658fc-9730-4499-d892-816769a6d8f5"
   },
   "outputs": [
    {
     "name": "stdout",
     "output_type": "stream",
     "text": [
      "Epoch 24\n",
      "Train accuracy: 0.9894937917860553\n",
      "Val accuracy: 0.97\n"
     ]
    },
    {
     "data": {
      "image/png": "[encoded data removed]",
      "text/plain": [
       "<Figure size 432x288 with 1 Axes>"
      ]
     },
     "metadata": {
      "needs_background": "light"
     },
     "output_type": "display_data"
    }
   ],
   "source": [
    "for epoch in range(25):\n",
    "\n",
    "    for x_batch,y_batch in iterate_minibatches(X_train,y_train,batchsize=32,shuffle=True):\n",
    "        train(network,x_batch,y_batch)\n",
    "    \n",
    "    train_log.append(np.mean(predict(network,X_train)==y_train))\n",
    "    val_log.append(np.mean(predict(network,X_val)==y_val))\n",
    "    \n",
    "clear_output()\n",
    "print(\"Epoch\",epoch)\n",
    "print(\"Train accuracy:\", train_log[-1])\n",
    "print(\"Val accuracy:\", val_log[-1])\n",
    "plt.plot(train_log, label='train accuracy')\n",
    "plt.plot(val_log, label='val accuracy')\n",
    "plt.legend(loc='best')\n",
    "plt.grid()\n",
    "plt.show()\n",
    "    "
   ]
  },
  {
   "cell_type": "markdown",
   "metadata": {
    "id": "YgxZze99748q"
   },
   "source": [
    "As we can see we have successfully trained a MLP which was purely written in numpy with high validation accuracy!"
   ]
  },
  {
   "cell_type": "markdown",
   "metadata": {
    "id": "zum-oFsFQNCW"
   },
   "source": [
    "## Classification report.\n",
    "\n",
    "Look at the precision column and you will see the percentage of right prediction to each number. The closer to 1 the best"
   ]
  },
  {
   "cell_type": "code",
   "execution_count": 19,
   "metadata": {
    "colab": {
     "base_uri": "https://localhost:8080/"
    },
    "id": "H5fFtXfKOWCm",
    "outputId": "66598dcb-79bd-4509-8701-a17d417c8fb9"
   },
   "outputs": [
    {
     "name": "stdout",
     "output_type": "stream",
     "text": [
      "              precision    recall  f1-score   support\n",
      "\n",
      "           0       1.00      0.99      1.00       106\n",
      "           1       0.95      1.00      0.98       104\n",
      "           2       1.00      1.00      1.00        93\n",
      "           3       1.00      0.99      0.99       100\n",
      "           4       0.99      0.99      0.99       105\n",
      "           5       0.97      1.00      0.99       109\n",
      "           6       1.00      0.99      1.00       107\n",
      "           7       1.00      1.00      1.00       109\n",
      "           8       0.98      0.96      0.97       105\n",
      "           9       1.00      0.97      0.99       109\n",
      "\n",
      "    accuracy                           0.99      1047\n",
      "   macro avg       0.99      0.99      0.99      1047\n",
      "weighted avg       0.99      0.99      0.99      1047\n",
      "\n"
     ]
    }
   ],
   "source": [
    "def evaluate(testData, testLabel):\n",
    "    predictions = [predict(network,item) for item in testData]\n",
    "    print(classification_report(testLabel, predictions))\n",
    "\n",
    "evaluate(X_train, y_train)\n"
   ]
  },
  {
   "cell_type": "markdown",
   "metadata": {
    "id": "FjhEtuSvQXvn"
   },
   "source": [
    "## Random test\n",
    "\n"
   ]
  },
  {
   "cell_type": "code",
   "execution_count": 20,
   "metadata": {
    "colab": {
     "base_uri": "https://localhost:8080/"
    },
    "id": "FyE43GXZQfpk",
    "outputId": "a2024a2c-ae34-4fa5-f165-21514050d9fd"
   },
   "outputs": [
    {
     "name": "stdout",
     "output_type": "stream",
     "text": [
      "[INFO] Test network with  4\n",
      "Result =  4\n"
     ]
    }
   ],
   "source": [
    "print(\"[INFO] Test network with \", y_train[0])\n",
    "predictions = predict(network, X_train[0])\n",
    "print(\"Result = \", predictions)"
   ]
  }
 ],
 "metadata": {
  "accelerator": "GPU",
  "anaconda-cloud": {},
  "colab": {
   "name": "Building_neural_network_from_scratch.ipynb",
   "provenance": []
  },
  "kernelspec": {
   "display_name": "PyCharm (opencv-projects)",
   "language": "python",
   "name": "pycharm-4eccda7c"
  },
  "language_info": {
   "codemirror_mode": {
    "name": "ipython",
    "version": 3
   },
   "file_extension": ".py",
   "mimetype": "text/x-python",
   "name": "python",
   "nbconvert_exporter": "python",
   "pygments_lexer": "ipython3",
   "version": "3.9.7"
  },
  "toc": {
   "colors": {
    "hover_highlight": "#DAA520",
    "navigate_num": "#000000",
    "navigate_text": "#333333",
    "running_highlight": "#FF0000",
    "selected_highlight": "#FFD700",
    "sidebar_border": "#EEEEEE",
    "wrapper_background": "#FFFFFF"
   },
   "moveMenuLeft": true,
   "nav_menu": {
    "height": "264px",
    "width": "252px"
   },
   "navigate_menu": true,
   "number_sections": true,
   "sideBar": true,
   "threshold": 4,
   "toc_cell": false,
   "toc_section_display": "block",
   "toc_window_display": false,
   "widenNotebook": false
  }
 },
 "nbformat": 4,
 "nbformat_minor": 1
}