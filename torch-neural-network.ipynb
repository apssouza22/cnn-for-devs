{
 "cells": [
  {
   "cell_type": "markdown",
   "metadata": {
    "_cell_guid": "b1076dfc-b9ad-4769-8c92-a6c4dae69d19",
    "_uuid": "8f2839f25d086af736a60e9eeb907d3b93b6e0e5"
   },
   "source": [
    "# Image Classification with Logistic Regression (Minimal)"
   ]
  },
  {
   "cell_type": "code",
   "execution_count": 156,
   "metadata": {},
   "outputs": [],
   "source": [
    "# Imports\n",
    "import torch\n",
    "import torchvision\n",
    "import torch.nn as nn\n",
    "import matplotlib.pyplot as plt\n",
    "import torch.nn.functional as F\n",
    "import torchvision.transforms as transforms\n",
    "from torchvision.datasets import MNIST\n",
    "from torch.utils.data import random_split\n",
    "from torch.utils.data import DataLoader,TensorDataset"
   ]
  },
  {
   "cell_type": "code",
   "execution_count": 157,
   "metadata": {},
   "outputs": [],
   "source": [
    "# Hyperparmeters\n",
    "batch_size = 128\n",
    "learning_rate = 0.001\n",
    "\n",
    "# Other constants\n",
    "input_size = 28*28\n",
    "num_classes = 10"
   ]
  },
  {
   "cell_type": "markdown",
   "metadata": {},
   "source": [
    "## Dataset & Data loaders"
   ]
  },
  {
   "cell_type": "code",
   "execution_count": 164,
   "metadata": {},
   "outputs": [],
   "source": [
    "# Download dataset\n",
    "dataset = MNIST(root='data/', train=True, transform=transforms.ToTensor(), download=True)\n",
    "\n",
    "# Training validation & test dataset\n",
    "train_ds, val_ds = random_split(dataset, [50000, 10000])\n",
    "test_ds = MNIST(root='data/', train=False, transform=transforms.ToTensor())\n",
    "\n",
    "# Dataloaders\n",
    "train_loader = DataLoader(train_ds, batch_size, shuffle=True)\n",
    "val_loader = DataLoader(val_ds, batch_size*2)"
   ]
  },
  {
   "cell_type": "code",
   "execution_count": 159,
   "metadata": {},
   "outputs": [
    {
     "name": "stdout",
     "output_type": "stream",
     "text": [
      "Label: 7\n"
     ]
    },
    {
     "data": {
      "image/png": "[encoded data removed]",
      "text/plain": [
       "<Figure size 432x288 with 1 Axes>"
      ]
     },
     "metadata": {
      "needs_background": "light"
     },
     "output_type": "display_data"
    }
   ],
   "source": [
    "image, label = train_ds[0]\n",
    "plt.imshow(image[0], cmap='gray')\n",
    "print('Label:', label)"
   ]
  },
  {
   "cell_type": "markdown",
   "metadata": {},
   "source": [
    "## Model"
   ]
  },
  {
   "cell_type": "code",
   "execution_count": 160,
   "metadata": {},
   "outputs": [],
   "source": [
    "class NeuralNetwork(nn.Module):\n",
    "\tdef __init__(self):\n",
    "\t\tsuper().__init__()\n",
    "\t\tself.linear = nn.Linear(input_size, num_classes)\n",
    "\n",
    "\tdef forward(self, xb):\n",
    "\t\txb = xb.reshape(-1, 784)\n",
    "\t\tout = self.linear(xb)\n",
    "\t\treturn out\n",
    "\n",
    "\tdef training_step(self, batch):\n",
    "\t\timages, labels = batch \n",
    "\t\tout = self(images)                  # Generate predictions\n",
    "\t\tloss = F.cross_entropy(out, labels) # Calculate loss\n",
    "\t\treturn loss\n",
    "\t\n",
    "\tdef predict(self, img):\n",
    "\t\txb = img.unsqueeze(0)\n",
    "\t\tyb = model(xb)\n",
    "\t\treturn yb.detach().numpy()\n",
    "\n",
    "\tdef train(model, epochs, lr, train_loader, val_loader, opt_func=torch.optim.SGD):\n",
    "\t\thistory = []\n",
    "\t\toptimizer = opt_func(model.parameters(), lr)\n",
    "\t\tfor epoch in range(epochs):\n",
    "\t\t\t# Training Phase \n",
    "\t\t\tfor batch in train_loader:\n",
    "\t\t\t\tloss = model.training_step(batch)\n",
    "\t\t\t\tloss.backward()\n",
    "\t\t\t\toptimizer.step()\n",
    "\t\t\t\toptimizer.zero_grad()\n",
    "\t\t\t\t\n",
    "\t\t\t# Validation phase\n",
    "\t\t\tresult = model.evaluate(val_loader)\n",
    "\t\t\tmodel.epoch_end(epoch, result)\n",
    "\t\t\thistory.append(result)\n",
    "\t\treturn history    \n",
    "\n",
    "\tdef accuracy(self, outputs, labels):\n",
    "\t\t_, preds = torch.max(outputs, dim=1)\n",
    "\t\treturn torch.tensor(torch.sum(preds == labels).item() / len(preds))\n",
    "\n",
    "\tdef evaluate(self, val_loader):\n",
    "\t\toutputs = [self.validation_step(batch) for batch in val_loader]\n",
    "\t\treturn self.validation_epoch_end(outputs)\n",
    "\n",
    "\tdef validation_step(self, batch):\n",
    "\t\timages, labels = batch \n",
    "\t\tout = self(images)                    # Generate predictions\n",
    "\t\tloss = F.cross_entropy(out, labels)   # Calculate loss\n",
    "\t\tacc = self.accuracy(out, labels)           # Calculate accuracy\n",
    "\t\treturn {'val_loss': loss.detach(), 'val_acc': acc.detach()}\n",
    "\n",
    "\tdef validation_epoch_end(self, outputs):\n",
    "\t\tbatch_losses = [x['val_loss'] for x in outputs]\n",
    "\t\tepoch_loss = torch.stack(batch_losses).mean()   # Combine losses\n",
    "\t\tbatch_accs = [x['val_acc'] for x in outputs]\n",
    "\t\tepoch_acc = torch.stack(batch_accs).mean()      # Combine accuracies\n",
    "\t\treturn {'val_loss': epoch_loss.item(), 'val_acc': epoch_acc.item()}\n",
    "\n",
    "\tdef epoch_end(self, epoch, result):\n",
    "\t\tprint(\"Epoch [{}], val_loss: {:.4f}, val_acc: {:.4f}\".format(epoch, result['val_loss'], result['val_acc']))\n",
    "\n",
    "model = NeuralNetwork()"
   ]
  },
  {
   "cell_type": "markdown",
   "metadata": {},
   "source": [
    "## Training"
   ]
  },
  {
   "cell_type": "code",
   "execution_count": 161,
   "metadata": {},
   "outputs": [
    {
     "name": "stdout",
     "output_type": "stream",
     "text": [
      "Epoch [0], val_loss: 1.9330, val_acc: 0.6514\n",
      "Epoch [1], val_loss: 1.6634, val_acc: 0.7432\n",
      "Epoch [2], val_loss: 1.4630, val_acc: 0.7761\n",
      "Epoch [3], val_loss: 1.3122, val_acc: 0.7910\n",
      "Epoch [4], val_loss: 1.1962, val_acc: 0.8033\n"
     ]
    }
   ],
   "source": [
    "history = model.train(5, 0.001, train_loader, val_loader)"
   ]
  },
  {
   "cell_type": "code",
   "execution_count": 162,
   "metadata": {},
   "outputs": [
    {
     "data": {
      "image/png": "[encoded data removed]",
      "text/plain": [
       "<Figure size 432x288 with 1 Axes>"
      ]
     },
     "metadata": {
      "needs_background": "light"
     },
     "output_type": "display_data"
    }
   ],
   "source": [
    "losses = [r['val_loss'] for r in history]\n",
    "plt.plot(losses, '-x')\n",
    "plt.xlabel('epoch')\n",
    "plt.ylabel('accuracy')\n",
    "plt.title('loss vs. No. of epochs');"
   ]
  },
  {
   "cell_type": "markdown",
   "metadata": {},
   "source": [
    "## Prediction"
   ]
  },
  {
   "cell_type": "code",
   "execution_count": 163,
   "metadata": {},
   "outputs": [
    {
     "name": "stdout",
     "output_type": "stream",
     "text": [
      "Label: 9 , Predicted: [9]\n"
     ]
    },
    {
     "data": {
      "image/png": "[encoded data removed]",
      "text/plain": [
       "<Figure size 432x288 with 1 Axes>"
      ]
     },
     "metadata": {
      "needs_background": "light"
     },
     "output_type": "display_data"
    }
   ],
   "source": [
    "img, label = test_ds[913]\n",
    "plt.imshow(img[0], cmap='gray')\n",
    "predictions = model.predict(img)\n",
    "prediction = predictions.argmax(axis=1)\n",
    "print('Label:', label, ', Predicted:', predictions.argmax(axis=1))"
   ]
  },
  {
   "cell_type": "markdown",
   "metadata": {},
   "source": [
    "## Save weights"
   ]
  },
  {
   "cell_type": "code",
   "execution_count": 18,
   "metadata": {},
   "outputs": [],
   "source": [
    "# torch.save(model.state_dict(), 'mnist-logistic.pth')"
   ]
  }
 ],
 "metadata": {
  "kernelspec": {
   "display_name": "Python 3",
   "language": "python",
   "name": "python3"
  },
  "language_info": {
   "codemirror_mode": {
    "name": "ipython",
    "version": 3
   },
   "file_extension": ".py",
   "mimetype": "text/x-python",
   "name": "python",
   "nbconvert_exporter": "python",
   "pygments_lexer": "ipython3",
   "version": "3.7.6"
  }
 },
 "nbformat": 4,
 "nbformat_minor": 4
}
