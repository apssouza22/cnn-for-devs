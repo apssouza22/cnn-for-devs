{
 "cells": [
  {
   "cell_type": "markdown",
   "metadata": {},
   "source": [
    "<a href=\"https://colab.research.google.com/github/apssouza22/cnn-for-devs/blob/master/g-image-similarity.ipynb\" target=\"_parent\"><img src=\"https://colab.research.google.com/assets/colab-badge.svg\" alt=\"Open In Colab\"/></a>"
   ]
  },
  {
   "cell_type": "markdown",
   "metadata": {
    "id": "1oZyY8beAwWo"
   },
   "source": [
    "Image search - Find similar images\n",
    "======\n",
    "\n",
    "In this session we will learn how to build a image search engine."
   ]
  },
  {
   "cell_type": "code",
   "execution_count": 1,
   "metadata": {
    "id": "QeU9mB0_AwWs"
   },
   "outputs": [],
   "source": [
    "%matplotlib inline\n",
    "import os\n",
    "\n",
    "import torch\n",
    "import torch.nn as nn\n",
    "import torch.nn.functional as F"
   ]
  },
  {
   "cell_type": "markdown",
   "metadata": {
    "id": "U9mhRUHRAwWt"
   },
   "source": [
    "Parameter Settings\n",
    "-------------------\n"
   ]
  },
  {
   "cell_type": "code",
   "execution_count": 2,
   "metadata": {
    "id": "F-6mqVszAwWu"
   },
   "outputs": [],
   "source": [
    "latent_dims = 10\n",
    "num_epochs = 50\n",
    "batch_size = 128\n",
    "capacity = 64\n",
    "learning_rate = 1e-3\n",
    "use_gpu = True\n",
    "conv_dim = capacity * 2 * 7 * 7"
   ]
  },
  {
   "cell_type": "markdown",
   "metadata": {
    "id": "flbWQTlZAwWu"
   },
   "source": [
    "MNIST Data Loading\n",
    "-------------------\n",
    "\n",
    "MNIST images show digits from 0-9 in 28x28 grayscale images. We normalize and center them around 0, which gives a slight performance boost during training.\n",
    "We create both a training set and a test set."
   ]
  },
  {
   "cell_type": "code",
   "execution_count": 3,
   "metadata": {
    "id": "6uK2neSDAwWv"
   },
   "outputs": [],
   "source": [
    "import torchvision.transforms as transforms\n",
    "from torch.utils.data import DataLoader\n",
    "from torchvision.datasets import MNIST\n",
    "\n",
    "img_transform = transforms.Compose([\n",
    "    transforms.ToTensor(),\n",
    "    transforms.Normalize((0.5,), (0.5,))\n",
    "])\n",
    "\n",
    "train_dataset = MNIST(root='./data/MNIST', download=True, train=True, transform=img_transform)\n",
    "train_dataloader = DataLoader(train_dataset, batch_size=batch_size, shuffle=True)\n",
    "\n",
    "test_dataset = MNIST(root='./data/MNIST', download=True, train=False, transform=img_transform)\n",
    "test_dataloader = DataLoader(test_dataset, batch_size=batch_size, shuffle=True)\n",
    "\n",
    "full_dataset = torch.utils.data.ConcatDataset([train_dataset, test_dataset])\n",
    "full_dataloader = DataLoader(full_dataset, batch_size=batch_size, shuffle=False)"
   ]
  },
  {
   "cell_type": "markdown",
   "metadata": {
    "id": "IKqkmN51AwWz"
   },
   "source": [
    "Load Pre-Trained Autoencoder\n",
    "-----------------------------\n",
    "\n",
    "In this lesson we will leverage from the Autoencoder model we created in the previous lesson <a href=\"https://colab.research.google.com/github/apssouza22/cnn-for-devs/blob/master/f-image-interpolation.ipynb\" target=\"_parent\"><img src=\"https://colab.research.google.com/assets/colab-badge.svg\" alt=\"Open In Colab\"/></a>"
   ]
  },
  {
   "cell_type": "code",
   "execution_count": 5,
   "metadata": {
    "colab": {
     "base_uri": "https://localhost:8080/"
    },
    "id": "P-zHUB8hAwW0",
    "outputId": "90d57af6-995c-456b-a36c-5adf570f84c0"
   },
   "outputs": [
    {
     "data": {
      "text/plain": [
       "<All keys matched successfully>"
      ]
     },
     "execution_count": 5,
     "metadata": {},
     "output_type": "execute_result"
    }
   ],
   "source": [
    "autoencoder.decoder.load_state_dict(torch.load('./assets/decoder.pth'))\n",
    "autoencoder.encoder.load_state_dict(torch.load('./assets/encoder.pth'))\n",
    "\n",
    "# this is how the autoencoder parameters can be saved:\n",
    "# torch.save(autoencoder.state_dict(), './assets/my_autoencoder.pth')"
   ]
  },
  {
   "cell_type": "markdown",
   "metadata": {
    "id": "SzgXndbGAwW0"
   },
   "source": [
    "Evaluate on the Test Set\n",
    "-------------------------"
   ]
  },
  {
   "cell_type": "code",
   "execution_count": 8,
   "metadata": {
    "colab": {
     "base_uri": "https://localhost:8080/"
    },
    "id": "4fwptU4XAwW0",
    "outputId": "c9162097-a023-452f-dac1-4de222eef12b"
   },
   "outputs": [
    {
     "name": "stdout",
     "output_type": "stream",
     "text": [
      "average reconstruction error: 0.048330\n"
     ]
    }
   ],
   "source": [
    "# set to evaluation mode\n",
    "autoencoder.eval()\n",
    "\n",
    "test_loss_avg, num_batches = 0, 0\n",
    "for image_batch, _ in test_dataloader:\n",
    "    \n",
    "    with torch.no_grad():\n",
    "\n",
    "        image_batch = image_batch.to(device)\n",
    "\n",
    "        # autoencoder reconstruction\n",
    "        image_batch_recon = autoencoder(image_batch)\n",
    "\n",
    "        # reconstruction error\n",
    "        loss = F.mse_loss(image_batch_recon, image_batch)\n",
    "\n",
    "        test_loss_avg += loss.item()\n",
    "        num_batches += 1\n",
    "    \n",
    "test_loss_avg /= num_batches\n",
    "print('average reconstruction error: %f' % (test_loss_avg))"
   ]
  },
  {
   "cell_type": "markdown",
   "metadata": {
    "id": "PGOZhBrEAwW1"
   },
   "source": [
    "Visualize Reconstructions\n",
    "--------------------------"
   ]
  },
  {
   "cell_type": "code",
   "execution_count": 10,
   "metadata": {
    "colab": {
     "base_uri": "https://localhost:8080/"
    },
    "id": "SGs6dUcFs4cB",
    "outputId": "4ba0e7c8-e89b-4ddf-b7da-2a69ac313834"
   },
   "outputs": [
    {
     "name": "stdout",
     "output_type": "stream",
     "text": [
      "creating tensor\n"
     ]
    }
   ],
   "source": [
    "\n",
    "def create_embedding(encoder, full_loader, embedding_dim, device):\n",
    "    \"\"\"\n",
    "    Creates embedding using encoder from dataloader.\n",
    "    encoder: A convolutional Encoder. E.g. torch_model ConvEncoder\n",
    "    full_loader: PyTorch dataloader, containing (images, images) over entire dataset.\n",
    "    embedding_dim: Tuple (c, h, w) Dimension of embedding = output of encoder dimesntions.\n",
    "    device: \"cuda\" or \"cpu\"\n",
    "    Returns: Embedding of size (num_images_in_loader + 1, c, h, w)\n",
    "    \"\"\"\n",
    "    # Set encoder to eval mode.\n",
    "    encoder.eval()\n",
    "    # Just a place holder for our 0th image embedding.\n",
    "    \n",
    "    # embedding = torch.randn(embedding_dim)\n",
    "    embedding = None\n",
    "    labels = []\n",
    "    # print(embedding.shape)\n",
    "    # Again we do not compute loss here so. No gradients.\n",
    "    with torch.no_grad():\n",
    "        for batch_idx, (train_img, target_img) in enumerate(full_loader):\n",
    "            for _,val in enumerate(target_img):\n",
    "              labels.append(val.item())\n",
    "              \n",
    "            train_img = train_img.to(device)\n",
    "            # Get encoder outputs and move outputs to cpu\n",
    "            enc_output = encoder(train_img).cpu()\n",
    "            if  embedding is not None:\n",
    "              # embedding = torch.cat((embedding, enc_output), 0)\n",
    "              embedding = np.row_stack((embedding, enc_output))\n",
    "              \n",
    "            else:\n",
    "              print(\"creating tensor\")\n",
    "              embedding = enc_output\n",
    "\n",
    "    return  {\"labels\": labels, \"features\": embedding}\n",
    "\n",
    "EMBEDDING_SHAPE = (conv_dim, latent_dims)\n",
    "index = create_embedding(autoencoder.encoder, full_dataloader, EMBEDDING_SHAPE, device)"
   ]
  },
  {
   "cell_type": "code",
   "execution_count": 11,
   "metadata": {
    "id": "dAAG9L6jC8t9"
   },
   "outputs": [],
   "source": [
    "from PIL import Image\n",
    "from sklearn.neighbors import NearestNeighbors\n",
    "\n",
    "# compute and return the euclidean distance between two vectors\n",
    "def euclidean(a, b):\n",
    "\treturn np.linalg.norm(a - b)\n",
    "\n",
    "def perform_search(queryFeatures, index, maxResults=64):\n",
    "\tresults = []\n",
    "\n",
    "\t# loop over our index\n",
    "\tfor i in range(0, len(index[\"features\"])):\n",
    "\t\t# compute the euclidean distance between our query features and the features for the current image in our index, then\n",
    "\t\t# update our results list with a 2-tuple consisting of the computed distance and the index of the image\n",
    "\t\tdistance = euclidean(queryFeatures, index[\"features\"][i])\n",
    "\t\tresults.append((distance, i))\n",
    "\n",
    "\t# sort the results and grab the top ones\n",
    "\tresults = sorted(results)[:maxResults]\n",
    "\n",
    "\t# return the list of results\n",
    "\treturn results\n",
    "\n",
    "def compute_similar_images(img1, num_images, embedding, device):\n",
    "    with torch.no_grad():\n",
    "      img1 = img1.to(device)\n",
    "      image_embedding = autoencoder.encoder(img1).cpu().detach().numpy()\n",
    "    indices_list = perform_search(image_embedding, index, maxResults=num_images)\n",
    "\n",
    "    return indices_list"
   ]
  },
  {
   "cell_type": "code",
   "execution_count": 32,
   "metadata": {
    "colab": {
     "base_uri": "https://localhost:8080/"
    },
    "id": "AkkJcCGfv2yV",
    "outputId": "a5f7a991-6f39-4150-d11d-aa5bf5047cbd"
   },
   "outputs": [
    {
     "name": "stdout",
     "output_type": "stream",
     "text": [
      "torch.Size([76272, 10])\n"
     ]
    }
   ],
   "source": [
    "# print(embedding.shape)\n",
    "# np.save(\"data_embedding.npy\", embedding)"
   ]
  },
  {
   "cell_type": "code",
   "execution_count": 12,
   "metadata": {
    "id": "bq43J-zXwzwl"
   },
   "outputs": [],
   "source": [
    "\n"
   ]
  },
  {
   "cell_type": "code",
   "execution_count": 14,
   "metadata": {
    "id": "Wgg-LOtFw7WO"
   },
   "outputs": [],
   "source": [
    "# sort part of test set by digit\n",
    "digits = [[] for _ in range(10)]\n",
    "for img_batch, label_batch in test_dataloader:\n",
    "    for i in range(img_batch.size(0)):\n",
    "        digits[label_batch[i]].append(img_batch[i:i+1])\n",
    "\n",
    "    if sum(len(d) for d in digits) >= 1000:\n",
    "        break;\n"
   ]
  },
  {
   "cell_type": "code",
   "execution_count": 16,
   "metadata": {
    "colab": {
     "base_uri": "https://localhost:8080/",
     "height": 431
    },
    "id": "fZxiJG71w2W2",
    "outputId": "f445619b-4725-46ae-9ada-f262a239b956"
   },
   "outputs": [
    {
     "name": "stdout",
     "output_type": "stream",
     "text": [
      "7,7,7,7,7,7,7,7,7,7,\n",
      "[(6.021733e-07, 67978), (1.5984244, 28201), (1.907501, 13091), (1.9263319, 65297), (1.9482344, 6115), (1.950679, 36796), (2.1586654, 17163), (2.1928153, 60676), (2.2439678, 20619), (2.245177, 14391)]\n"
     ]
    },
    {
     "data": {
      "image/png": "[encoded data removed]",
      "text/plain": [
       "<Figure size 1080x432 with 10 Axes>"
      ]
     },
     "metadata": {
      "needs_background": "light"
     },
     "output_type": "display_data"
    }
   ],
   "source": [
    "img = digits[7][0]\n",
    "indices_list = compute_similar_images(img, 10, index[\"features\"], device)\n",
    "\n",
    "labels =\"\"\n",
    "for i,val in enumerate(indices_list):\n",
    "  labels += str(index[\"labels\"][val[1]]) + \",\"\n",
    "\n",
    "print(labels)\n",
    "print(indices_list)\n",
    "\n",
    "fig, axs = plt.subplots(2,5, figsize=(15, 6))\n",
    "fig.subplots_adjust(hspace = .5, wspace=.001)\n",
    "axs = axs.ravel()\n",
    "for i,val in enumerate(indices_list):\n",
    "  img, lbl = full_dataloader.dataset[val[1]]\n",
    "  inter_image = to_img(img)\n",
    "  image = inter_image.numpy()\n",
    "  axs[i].imshow(img.squeeze(), cmap='gray')\n",
    "\n",
    "plt.show() "
   ]
  }
 ],
 "metadata": {
  "accelerator": "GPU",
  "colab": {
   "name": "autoencoder.ipynb",
   "provenance": []
  },
  "kernelspec": {
   "display_name": "Python 3",
   "language": "python",
   "name": "python3"
  },
  "language_info": {
   "codemirror_mode": {
    "name": "ipython",
    "version": 3
   },
   "file_extension": ".py",
   "mimetype": "text/x-python",
   "name": "python",
   "nbconvert_exporter": "python",
   "pygments_lexer": "ipython3",
   "version": "3.7.6"
  }
 },
 "nbformat": 4,
 "nbformat_minor": 1
}
