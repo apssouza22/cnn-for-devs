{
  "cells": [
    {
      "cell_type": "markdown",
      "metadata": {
        "id": "_olmp4cIedJi"
      },
      "source": [
        "<a href=\"https://colab.research.google.com/github/apssouza22/cnn-for-devs/blob/master/g-image-similarity.ipynb\" target=\"_parent\"><img src=\"https://colab.research.google.com/assets/colab-badge.svg\" alt=\"Open In Colab\"/></a>"
      ]
    },
    {
      "cell_type": "markdown",
      "metadata": {
        "id": "1oZyY8beAwWo"
      },
      "source": [
        "Image search - Finding similar images\n",
        "======\n",
        "\n",
        "In this session we will learn how to build a image search engine."
      ]
    },
    {
      "cell_type": "code",
      "execution_count": 29,
      "metadata": {
        "id": "QeU9mB0_AwWs"
      },
      "outputs": [],
      "source": [
        "%matplotlib inline\n",
        "import os\n",
        "\n",
        "import torch\n",
        "import torch.nn as nn\n",
        "import torch.nn.functional as F"
      ]
    },
    {
      "cell_type": "markdown",
      "metadata": {
        "id": "U9mhRUHRAwWt"
      },
      "source": [
        "Parameter Settings\n",
        "-------------------\n"
      ]
    },
    {
      "cell_type": "code",
      "source": [
        "num_classes = 10\n",
        "num_epochs = 30\n",
        "batch_size = 128\n",
        "learning_rate = 0.001\n",
        "use_gpu = True\n",
        "img_size = 64\n",
        "conv_dim = 64 * 2 * 7 * 7"
      ],
      "metadata": {
        "id": "E3nFY3rX53Yo"
      },
      "execution_count": 30,
      "outputs": []
    },
    {
      "cell_type": "markdown",
      "metadata": {
        "id": "flbWQTlZAwWu"
      },
      "source": [
        "MNIST Data Loading\n",
        "-------------------\n",
        "\n",
        "MNIST images show digits from 0-9 in 28x28 grayscale images. We normalize and center them around 0, which gives a slight performance boost during training.\n",
        "We create both a training set and a test set."
      ]
    },
    {
      "cell_type": "code",
      "execution_count": 31,
      "metadata": {
        "id": "6uK2neSDAwWv"
      },
      "outputs": [],
      "source": [
        "import torchvision.transforms as transforms\n",
        "from torch.utils.data import DataLoader\n",
        "from torchvision.datasets import MNIST\n",
        "\n",
        "img_transform = transforms.Compose([\n",
        "    transforms.ToTensor(),\n",
        "    transforms.Normalize((0.5,), (0.5,))\n",
        "])\n",
        "train_dataset = MNIST(root='./data/MNIST', download=True, train=True, transform=img_transform)\n",
        "train_dataloader = DataLoader(train_dataset, batch_size=batch_size, shuffle=True)\n",
        "\n",
        "test_dataset = MNIST(root='./data/MNIST', download=True, train=False, transform=img_transform)\n",
        "test_dataloader = DataLoader(test_dataset, batch_size=batch_size, shuffle=True)\n",
        "\n",
        "full_dataset = torch.utils.data.ConcatDataset([train_dataset, test_dataset])\n",
        "full_dataloader = DataLoader(full_dataset, batch_size=batch_size, shuffle=False)"
      ]
    },
    {
      "cell_type": "code",
      "execution_count": 31,
      "metadata": {
        "id": "qDRI4FededJp"
      },
      "outputs": [],
      "source": [
        ""
      ]
    },
    {
      "cell_type": "code",
      "execution_count": 32,
      "metadata": {
        "id": "TuvFZ3TkedJq",
        "outputId": "c6045717-b710-472b-f11e-69bbd272c3ad",
        "colab": {
          "base_uri": "https://localhost:8080/"
        }
      },
      "outputs": [
        {
          "output_type": "stream",
          "name": "stdout",
          "text": [
            "Number of parameters: 396171\n"
          ]
        }
      ],
      "source": [
        "# Model responsible for generating our Latent space.\n",
        "#Latent space, Typically it is a 100-dimensional hypersphere with each variable drawn from a Gaussian distribution with a mean of zero and a standard deviation of one\n",
        "class Encoder(nn.Module):\n",
        "    def __init__(self):\n",
        "        super(Encoder, self).__init__()\n",
        "        self.conv1 = nn.Conv2d(in_channels=1, out_channels=img_size, kernel_size=4, stride=2, padding=1) # out: c x 14 x 14\n",
        "        self.conv2 = nn.Conv2d(in_channels=img_size, out_channels=img_size*2, kernel_size=4, stride=2, padding=1) # out: c x 7 x 7\n",
        "        self.fc = nn.Linear(in_features=img_size * 2 * 7 * 7, out_features=num_classes)\n",
        "            \n",
        "    def forward(self, x):\n",
        "        x = F.relu(self.conv1(x))\n",
        "        x = F.relu(self.conv2(x))\n",
        "        x = x.view(x.size(0), -1) # flatten batch of multi-channel feature maps to a batch of feature vectors\n",
        "        x = self.fc(x)\n",
        "        return x\n",
        "\n",
        "# Model responsible for reconstruct the image form our Latent space.\n",
        "class Decoder(nn.Module):\n",
        "    def __init__(self):\n",
        "        super(Decoder, self).__init__()\n",
        "        self.fc = nn.Linear(in_features=num_classes, out_features=img_size*2*7*7)\n",
        "        self.conv2 = nn.ConvTranspose2d(in_channels=img_size * 2, out_channels=img_size, kernel_size=4, stride=2, padding=1)\n",
        "        self.conv1 = nn.ConvTranspose2d(in_channels=img_size, out_channels=1, kernel_size=4, stride=2, padding=1)\n",
        "            \n",
        "    def forward(self, x):\n",
        "        x = self.fc(x)\n",
        "        x = x.view(x.size(0), img_size * 2, 7, 7) # unflatten batch of feature vectors to a batch of multi-channel feature maps\n",
        "        x = F.relu(self.conv2(x))\n",
        "        x = torch.tanh(self.conv1(x)) # last layer before output is tanh, since the images are normalized and 0-centered\n",
        "        return x\n",
        "    \n",
        "class Autoencoder(nn.Module):\n",
        "    def __init__(self):\n",
        "        super(Autoencoder, self).__init__()\n",
        "        self.encoder = Encoder()\n",
        "        self.decoder = Decoder()\n",
        "    \n",
        "    def forward(self, x):\n",
        "        latent = self.encoder(x)\n",
        "        x_recon = self.decoder(latent)\n",
        "        return x_recon\n",
        "    \n",
        "autoencoder = Autoencoder()\n",
        "\n",
        "device = torch.device(\"cuda:0\" if use_gpu and torch.cuda.is_available() else \"cpu\")\n",
        "autoencoder = autoencoder.to(device)\n",
        "\n",
        "#The model’s parameters that need to be trained.\n",
        "num_params = sum(p.numel() for p in autoencoder.parameters() if p.requires_grad)\n",
        "print('Number of parameters: %d' % num_params)\n"
      ]
    },
    {
      "cell_type": "markdown",
      "metadata": {
        "id": "IKqkmN51AwWz"
      },
      "source": [
        "Load Pre-Trained Autoencoder\n",
        "-----------------------------\n",
        "\n",
        "In this lesson we will leverage from the Autoencoder model we created in the previous lesson. Please run the notebook and upload the wheights generated in assets folder. <a href=\"https://colab.research.google.com/github/apssouza22/cnn-for-devs/blob/master/f-image-interpolation.ipynb\" target=\"_parent\"><img src=\"https://colab.research.google.com/assets/colab-badge.svg\" alt=\"Open In Colab\"/></a>"
      ]
    },
    {
      "cell_type": "code",
      "execution_count": 33,
      "metadata": {
        "colab": {
          "base_uri": "https://localhost:8080/"
        },
        "id": "P-zHUB8hAwW0",
        "outputId": "f32643be-59db-4a54-a175-ffaf2435fbb5"
      },
      "outputs": [
        {
          "output_type": "execute_result",
          "data": {
            "text/plain": [
              "<All keys matched successfully>"
            ]
          },
          "metadata": {},
          "execution_count": 33
        }
      ],
      "source": [
        "autoencoder.decoder.load_state_dict(torch.load('./assets/decoder.pth'))\n",
        "autoencoder.encoder.load_state_dict(torch.load('./assets/encoder.pth'))\n",
        "\n",
        "# this is how the autoencoder parameters can be saved:\n",
        "# torch.save(autoencoder.state_dict(), './assets/my_autoencoder.pth')"
      ]
    },
    {
      "cell_type": "markdown",
      "metadata": {
        "id": "PGOZhBrEAwW1"
      },
      "source": [
        "Create embedding from the latent space\n",
        "--------------------------"
      ]
    },
    {
      "cell_type": "code",
      "execution_count": 34,
      "metadata": {
        "id": "SGs6dUcFs4cB"
      },
      "outputs": [],
      "source": [
        "import numpy as np\n",
        "def create_embedding(encoder, full_loader, embedding_dim, device):\n",
        "    \"\"\"\n",
        "    Creates embedding using encoder from dataloader.\n",
        "    encoder: A convolutional Encoder\n",
        "    full_loader: PyTorch dataloader, containing images over entire dataset.\n",
        "    embedding_dim: Tuple (c, h, w) Dimension of embedding = output of encoder shape.\n",
        "    device: \"cuda\" or \"cpu\"\n",
        "    Returns: Embedding of size (num_images_in_loader + 1, c, h, w)\n",
        "    \"\"\"\n",
        "    # Set encoder to eval mode.\n",
        "    encoder.eval()\n",
        "    \n",
        "    embedding = None\n",
        "    labels = []\n",
        "    # print(embedding.shape)\n",
        "    # Again we do not compute loss here so. No gradients.\n",
        "    with torch.no_grad():\n",
        "        for batch_idx, (train_img, target_img) in enumerate(full_loader):\n",
        "            for _,val in enumerate(target_img):\n",
        "              labels.append(val.item())\n",
        "              \n",
        "            train_img = train_img.to(device)\n",
        "            # Get encoder outputs and move outputs to cpu\n",
        "            enc_output = encoder(train_img).cpu()\n",
        "            if  embedding is not None:\n",
        "              # embedding = torch.cat((embedding, enc_output), 0)\n",
        "              embedding = np.row_stack((embedding, enc_output))\n",
        "            else:\n",
        "              embedding = enc_output\n",
        "\n",
        "    return  {\"labels\": labels, \"features\": embedding}\n",
        "\n",
        "EMBEDDING_SHAPE = (conv_dim, num_classes)\n",
        "index = create_embedding(autoencoder.encoder, full_dataloader, EMBEDDING_SHAPE, device)\n",
        "# np.save(\"data_embedding.npy\", index)"
      ]
    },
    {
      "cell_type": "markdown",
      "source": [
        "### Dimensionality reduction\n",
        "We can use our embedding data and visualize it with [T-NSE algorithm](https://nlml.github.io/in-raw-numpy/in-raw-numpy-t-sne/) \n",
        "\n",
        "This means we can take some data that lives in a high-dimensional space  and visualise it in a lower-dimensional space. This is desirable, as humans are much better at understanding data when it is presented in a two- or three-dimensional space.\n",
        "\n",
        "<img src=\"https://1.bp.blogspot.com/-lPRGyin_9PE/X79c4SklGoI/AAAAAAAABBw/elm0fQLZCCY6AYUXx9NxNacyWFMog9X3wCLcBGAsYHQ/w640-h480/mnist-tsne.png\">"
      ],
      "metadata": {
        "id": "80fZ2O8V3-cP"
      }
    },
    {
      "cell_type": "markdown",
      "source": [
        "## Calculating image similarity\n",
        "\n",
        "Let's calculate the distance of two image latent space using euclidean algorithm "
      ],
      "metadata": {
        "id": "0xTmL5z465YC"
      }
    },
    {
      "cell_type": "code",
      "execution_count": 35,
      "metadata": {
        "id": "dAAG9L6jC8t9"
      },
      "outputs": [],
      "source": [
        "from PIL import Image\n",
        "\n",
        "# compute and return the euclidean distance between two vectors\n",
        "def euclidean(a, b):\n",
        "\treturn np.linalg.norm(a - b)\n",
        "\n",
        "def perform_search(queryFeatures, index, maxResults=64):\n",
        "\tresults = []\n",
        "\n",
        "\t# loop over our index\n",
        "\tfor i in range(0, len(index[\"features\"])):\n",
        "\t\t# compute the euclidean distance between our query features and the features for the current image in our index, then\n",
        "\t\t# update our results list with a 2-tuple consisting of the computed distance and the index of the image\n",
        "\t\tdistance = euclidean(queryFeatures, index[\"features\"][i])\n",
        "\t\tresults.append((distance, i))\n",
        "\n",
        "\t# sort the results and grab the top ones\n",
        "\tresults = sorted(results)[:maxResults]\n",
        "\treturn results\n",
        "\n",
        "def get_similar_images(img1, num_images, embedding, device):\n",
        "    with torch.no_grad():\n",
        "      img1 = img1.to(device)\n",
        "      image_embedding = autoencoder.encoder(img1).cpu().detach().numpy()\n",
        "\n",
        "    indices_list = perform_search(image_embedding, index, maxResults=num_images)\n",
        "    return indices_list"
      ]
    },
    {
      "cell_type": "code",
      "execution_count": 36,
      "metadata": {
        "id": "Wgg-LOtFw7WO"
      },
      "outputs": [],
      "source": [
        "# Grouping digits in a map\n",
        "digits = [[] for _ in range(10)]\n",
        "for img_batch, label_batch in test_dataloader:\n",
        "    for i in range(img_batch.size(0)):\n",
        "        digits[label_batch[i]].append(img_batch[i:i+1])\n",
        "\n",
        "    if sum(len(d) for d in digits) >= 1000:\n",
        "        break;\n",
        "        \n",
        "def to_img(x):\n",
        "    x = 0.5 * (x + 1)\n",
        "    x = x.clamp(0, 1)\n",
        "    return x"
      ]
    },
    {
      "cell_type": "markdown",
      "source": [
        "## Searching for images with number 7"
      ],
      "metadata": {
        "id": "DrLx4oIhgSBw"
      }
    },
    {
      "cell_type": "code",
      "source": [
        "img = digits[7][0]\n",
        "plt.imshow(img[0,0,:,:], cmap='gray')"
      ],
      "metadata": {
        "colab": {
          "base_uri": "https://localhost:8080/",
          "height": 283
        },
        "id": "FzfJtOsWxHTI",
        "outputId": "cabad066-573c-48d5-aa69-e3cfeacb1e67"
      },
      "execution_count": 37,
      "outputs": [
        {
          "output_type": "execute_result",
          "data": {
            "text/plain": [
              "<matplotlib.image.AxesImage at 0x7fe8f1b15090>"
            ]
          },
          "metadata": {},
          "execution_count": 37
        },
        {
          "output_type": "display_data",
          "data": {
            "text/plain": [
              "<Figure size 432x288 with 1 Axes>"
            ],
            "image/png": "[encoded data removed]"
          },
          "metadata": {
            "needs_background": "light"
          }
        }
      ]
    },
    {
      "cell_type": "code",
      "execution_count": 38,
      "metadata": {
        "colab": {
          "base_uri": "https://localhost:8080/"
        },
        "id": "fZxiJG71w2W2",
        "outputId": "42a71219-c845-4a81-def0-edabe62b7375"
      },
      "outputs": [
        {
          "output_type": "stream",
          "name": "stdout",
          "text": [
            "7,7,7,7,7,7,7,7,7,7,\n"
          ]
        },
        {
          "output_type": "execute_result",
          "data": {
            "text/plain": [
              "[(7.144622e-07, 68510),\n",
              " (0.8851903, 68525),\n",
              " (1.1556448, 68541),\n",
              " (1.1832607, 1251),\n",
              " (1.2905456, 1564),\n",
              " (1.2934818, 68497),\n",
              " (1.3046018, 16194),\n",
              " (1.3226087, 68519),\n",
              " (1.3259156, 44610),\n",
              " (1.3440713, 1281)]"
            ]
          },
          "metadata": {},
          "execution_count": 38
        }
      ],
      "source": [
        "import matplotlib.pyplot as plt\n",
        "indices_list = get_similar_images(img, 10, index[\"features\"], device)\n",
        "\n",
        "labels =\"\"\n",
        "for i,val in enumerate(indices_list):\n",
        "  labels += str(index[\"labels\"][val[1]]) + \",\"\n",
        "\n",
        "print(labels)\n",
        "indices_list\n"
      ]
    },
    {
      "cell_type": "code",
      "source": [
        "fig, axs = plt.subplots(2,5, figsize=(15, 6))\n",
        "fig.subplots_adjust(hspace = .5, wspace=.001)\n",
        "axs = axs.ravel()\n",
        "\n",
        "for i,val in enumerate(indices_list):\n",
        "  img, lbl = full_dataloader.dataset[val[1]]\n",
        "  inter_image = to_img(img)\n",
        "  image = inter_image.numpy()\n",
        "  axs[i].imshow(img.squeeze(), cmap='gray')\n",
        "\n",
        "plt.show() "
      ],
      "metadata": {
        "id": "jwQgAlEJ7_4Y",
        "outputId": "c76dd806-f6d3-4caa-bf5b-ece09869460c",
        "colab": {
          "base_uri": "https://localhost:8080/",
          "height": 376
        }
      },
      "execution_count": 39,
      "outputs": [
        {
          "output_type": "display_data",
          "data": {
            "text/plain": [
              "<Figure size 1080x432 with 10 Axes>"
            ],
            "image/png": "[encoded data removed]"
          },
          "metadata": {
            "needs_background": "light"
          }
        }
      ]
    },
    {
      "cell_type": "code",
      "source": [
        ""
      ],
      "metadata": {
        "id": "2_YH-SmrgENg"
      },
      "execution_count": 39,
      "outputs": []
    }
  ],
  "metadata": {
    "accelerator": "GPU",
    "colab": {
      "name": "autoencoder.ipynb",
      "provenance": []
    },
    "kernelspec": {
      "display_name": "Python 3",
      "language": "python",
      "name": "python3"
    },
    "language_info": {
      "codemirror_mode": {
        "name": "ipython",
        "version": 3
      },
      "file_extension": ".py",
      "mimetype": "text/x-python",
      "name": "python",
      "nbconvert_exporter": "python",
      "pygments_lexer": "ipython3",
      "version": "3.7.6"
    }
  },
  "nbformat": 4,
  "nbformat_minor": 0
}