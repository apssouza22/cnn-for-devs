{
 "cells": [
  {
   "cell_type": "markdown",
   "metadata": {},
   "source": [
    "<a href=\"https://colab.research.google.com/github/apssouza22/cnn-for-devs/blob/master/c-torch-neural-network.ipynb\" target=\"_parent\"><img src=\"https://colab.research.google.com/assets/colab-badge.svg\" alt=\"Open In Colab\"/></a>"
   ]
  },
  {
   "cell_type": "markdown",
   "metadata": {
    "_cell_guid": "b1076dfc-b9ad-4769-8c92-a6c4dae69d19",
    "_uuid": "8f2839f25d086af736a60e9eeb907d3b93b6e0e5"
   },
   "source": [
    "# Neural network with PyTorch"
   ]
  },
  {
   "cell_type": "markdown",
   "metadata": {},
   "source": [
    "Example based on https://jovian.ai/aakashns/mnist-logistic-minimal"
   ]
  },
  {
   "cell_type": "code",
   "execution_count": 9,
   "metadata": {},
   "outputs": [],
   "source": [
    "# Imports\n",
    "import torch\n",
    "import torchvision\n",
    "import torch.nn as nn\n",
    "import matplotlib.pyplot as plt\n",
    "import torch.nn.functional as F\n",
    "import torchvision.transforms as transforms\n",
    "from torchvision.datasets import MNIST\n",
    "from torch.utils.data import random_split\n",
    "from torch.utils.data import DataLoader,TensorDataset"
   ]
  },
  {
   "cell_type": "code",
   "execution_count": 10,
   "metadata": {},
   "outputs": [],
   "source": [
    "# Hyperparmeters\n",
    "batch_size = 128\n",
    "learning_rate = 0.001\n",
    "\n",
    "# Other constants\n",
    "input_size = 28*28 # the size of the images\n",
    "num_classes = 10 # the numbers 0-9"
   ]
  },
  {
   "cell_type": "markdown",
   "metadata": {},
   "source": [
    "## Dataset & Data loaders"
   ]
  },
  {
   "cell_type": "code",
   "execution_count": 11,
   "metadata": {},
   "outputs": [],
   "source": [
    "# Download dataset\n",
    "dataset = MNIST(root='data/', train=True, transform=transforms.ToTensor(), download=True)\n",
    "\n",
    "# Training validation & test dataset\n",
    "train_ds, val_ds = random_split(dataset, [50000, 10000])\n",
    "test_ds = MNIST(root='data/', train=False, transform=transforms.ToTensor())\n",
    "\n",
    "# Dataloaders\n",
    "train_loader = DataLoader(train_ds, batch_size, shuffle=True)\n",
    "val_loader = DataLoader(val_ds, batch_size*2)"
   ]
  },
  {
   "cell_type": "code",
   "execution_count": 12,
   "metadata": {},
   "outputs": [
    {
     "name": "stdout",
     "output_type": "stream",
     "text": [
      "Label: 3\n"
     ]
    },
    {
     "data": {
      "image/png": "[encoded data removed]",
      "text/plain": [
       "<Figure size 432x288 with 1 Axes>"
      ]
     },
     "metadata": {
      "needs_background": "light"
     },
     "output_type": "display_data"
    }
   ],
   "source": [
    "image, label = train_ds[0]\n",
    "plt.imshow(image[0], cmap='gray')\n",
    "print('Label:', label)"
   ]
  },
  {
   "cell_type": "markdown",
   "metadata": {},
   "source": [
    "## Model"
   ]
  },
  {
   "cell_type": "code",
   "execution_count": 45,
   "metadata": {},
   "outputs": [],
   "source": [
    "class NeuralNetwork(nn.Module):\n",
    "\tdef __init__(self):\n",
    "\t\tsuper().__init__()\n",
    "#         [input_size, 32, 16, 10]        \n",
    "\t\tself.layer1 = nn.Linear(input_size, 32)\n",
    "\t\tself.layer2 = nn.Linear(32, 16)\n",
    "\t\tself.layer3 = nn.Linear(16, num_classes)        \n",
    "\t\tself.func_activation = nn.Sigmoid()\n",
    "\n",
    "\tdef forward(self, xb):\n",
    "\t\txb = xb.reshape(-1, 784) # flatting the matrix to [1,784]. -1 means find the right dimension.\n",
    "\t\tout = self.layer1(xb) # forward calculate gradients\n",
    "\t\tout = self.func_activation(out) # make the model no linear\n",
    "\t\tout = self.layer2(out) # forward calculate gradients\n",
    "\t\tout = self.func_activation(out) # make the model no linear        \n",
    "\t\tout = self.layer3(out) # forward calculate gradients        \n",
    "\t\treturn out\n",
    "\n",
    "\tdef training_step(self, batch):\n",
    "\t\timages, labels = batch \n",
    "\t\tout = self(images)                  # Generate predictions\n",
    "\t\tloss = F.cross_entropy(out, labels) # Calculate loss\n",
    "\t\treturn loss\n",
    "\t\n",
    "\tdef predict(self, img):\n",
    "\t\txb = img.unsqueeze(0)\n",
    "\t\tyb = self(xb)\n",
    "\t\treturn yb.detach().numpy()\n",
    "\n",
    "\tdef train(self, epochs, lr, train_loader, val_loader, opt_func=torch.optim.SGD):\n",
    "\t\thistory = []\n",
    "\t\toptimizer = opt_func(self.parameters(), lr)\n",
    "\t\tfor epoch in range(epochs):\n",
    "\t\t\t# Training Phase \n",
    "\t\t\tfor batch in train_loader:\n",
    "\t\t\t\tloss = self.training_step(batch)\n",
    "\t\t\t\tloss.backward()\n",
    "\t\t\t\tself.update_weights(optimizer)\n",
    "\t\t\t\t\n",
    "\t\t\t# Validation phase\n",
    "\t\t\tresult = self.evaluate(val_loader)\n",
    "\t\t\tself.epoch_end(epoch, result)\n",
    "\t\t\thistory.append(result)\n",
    "\t\treturn history    \n",
    "\n",
    "\tdef update_weights(self,optimizer):\n",
    "\t\toptimizer.step()\n",
    "\t\toptimizer.zero_grad()\n",
    "\n",
    "\tdef accuracy(self, outputs, labels):\n",
    "\t\t_, preds = torch.max(outputs, dim=1)\n",
    "\t\treturn torch.tensor(torch.sum(preds == labels).item() / len(preds))\n",
    "\n",
    "\tdef evaluate(self, val_loader):\n",
    "\t\toutputs = [self.validation_step(batch) for batch in val_loader]\n",
    "\t\treturn self.validation_epoch_end(outputs)\n",
    "\n",
    "\tdef validation_step(self, batch):\n",
    "\t\timages, labels = batch \n",
    "\t\tout = self(images)                    # Generate predictions\n",
    "\t\tloss = F.cross_entropy(out, labels)   # Calculate loss\n",
    "\t\tacc = self.accuracy(out, labels)           # Calculate accuracy\n",
    "\t\treturn {'val_loss': loss.detach(), 'val_acc': acc.detach()}\n",
    "\n",
    "\tdef validation_epoch_end(self, outputs):\n",
    "\t\tbatch_losses = [x['val_loss'] for x in outputs]\n",
    "\t\tepoch_loss = torch.stack(batch_losses).mean()   # Combine losses\n",
    "\t\tbatch_accs = [x['val_acc'] for x in outputs]\n",
    "\t\tepoch_acc = torch.stack(batch_accs).mean()      # Combine accuracies\n",
    "\t\treturn {'val_loss': epoch_loss.item(), 'val_acc': epoch_acc.item()}\n",
    "\n",
    "\tdef epoch_end(self, epoch, result):\n",
    "\t\tprint(\"Epoch [{}], val_loss: {:.4f}, val_acc: {:.4f}\".format(epoch, result['val_loss'], result['val_acc']))\n",
    "\n",
    "model = NeuralNetwork()"
   ]
  },
  {
   "cell_type": "markdown",
   "metadata": {},
   "source": [
    "## Training"
   ]
  },
  {
   "cell_type": "code",
   "execution_count": 48,
   "metadata": {},
   "outputs": [
    {
     "name": "stdout",
     "output_type": "stream",
     "text": [
      "Epoch [0], val_loss: 0.3591, val_acc: 0.9005\n",
      "Epoch [1], val_loss: 0.3400, val_acc: 0.9051\n",
      "Epoch [2], val_loss: 0.3228, val_acc: 0.9101\n",
      "Epoch [3], val_loss: 0.3091, val_acc: 0.9128\n",
      "Epoch [4], val_loss: 0.2955, val_acc: 0.9167\n"
     ]
    }
   ],
   "source": [
    "history = model.train(5, 0.1, train_loader, val_loader)"
   ]
  },
  {
   "cell_type": "code",
   "execution_count": 49,
   "metadata": {},
   "outputs": [
    {
     "data": {
      "image/png": "[encoded data removed]",
      "text/plain": [
       "<Figure size 432x288 with 1 Axes>"
      ]
     },
     "metadata": {
      "needs_background": "light"
     },
     "output_type": "display_data"
    }
   ],
   "source": [
    "losses = [r['val_loss'] for r in history]\n",
    "plt.plot(losses, '-x')\n",
    "plt.xlabel('epoch')\n",
    "plt.ylabel('accuracy')\n",
    "plt.title('loss vs. No. of epochs');"
   ]
  },
  {
   "cell_type": "markdown",
   "metadata": {},
   "source": [
    "## Prediction"
   ]
  },
  {
   "cell_type": "code",
   "execution_count": 50,
   "metadata": {},
   "outputs": [
    {
     "name": "stdout",
     "output_type": "stream",
     "text": [
      "Label: 9 , Predicted: [9]\n"
     ]
    },
    {
     "data": {
      "image/png": "[encoded data removed]",
      "text/plain": [
       "<Figure size 432x288 with 1 Axes>"
      ]
     },
     "metadata": {
      "needs_background": "light"
     },
     "output_type": "display_data"
    }
   ],
   "source": [
    "img, label = test_ds[913]\n",
    "plt.imshow(img[0], cmap='gray')\n",
    "predictions = model.predict(img)\n",
    "prediction = predictions.argmax(axis=1)\n",
    "print('Label:', label, ', Predicted:', predictions.argmax(axis=1))"
   ]
  },
  {
   "cell_type": "markdown",
   "metadata": {},
   "source": [
    "## Save weights"
   ]
  },
  {
   "cell_type": "code",
   "execution_count": 18,
   "metadata": {},
   "outputs": [],
   "source": [
    "# torch.save(model.state_dict(), 'mnist-logistic.pth')"
   ]
  }
 ],
 "metadata": {
  "kernelspec": {
   "display_name": "Python 3",
   "language": "python",
   "name": "python3"
  },
  "language_info": {
   "codemirror_mode": {
    "name": "ipython",
    "version": 3
   },
   "file_extension": ".py",
   "mimetype": "text/x-python",
   "name": "python",
   "nbconvert_exporter": "python",
   "pygments_lexer": "ipython3",
   "version": "3.7.6"
  }
 },
 "nbformat": 4,
 "nbformat_minor": 4
}
